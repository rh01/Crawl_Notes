{
 "cells": [
  {
   "cell_type": "code",
   "execution_count": 3,
   "metadata": {
    "collapsed": false,
    "deletable": true,
    "editable": true
   },
   "outputs": [],
   "source": [
    "import pandas\n",
    "df = pandas.read_csv('ExchangeRate@201701231600.csv')"
   ]
  },
  {
   "cell_type": "code",
   "execution_count": 5,
   "metadata": {
    "collapsed": false,
    "deletable": true,
    "editable": true
   },
   "outputs": [
    {
     "data": {
      "text/html": [
       "<div>\n",
       "<table border=\"1\" class=\"dataframe\">\n",
       "  <thead>\n",
       "    <tr style=\"text-align: right;\">\n",
       "      <th></th>\n",
       "      <th>﻿数据日期</th>\n",
       "      <th>币别</th>\n",
       "      <th>汇率</th>\n",
       "      <th>现金</th>\n",
       "      <th>即期</th>\n",
       "      <th>远期10天</th>\n",
       "      <th>远期30天</th>\n",
       "      <th>远期60天</th>\n",
       "      <th>远期90天</th>\n",
       "      <th>远期120天</th>\n",
       "      <th>...</th>\n",
       "      <th>汇率.1</th>\n",
       "      <th>现金.1</th>\n",
       "      <th>即期.1</th>\n",
       "      <th>远期10天.1</th>\n",
       "      <th>远期30天.1</th>\n",
       "      <th>远期60天.1</th>\n",
       "      <th>远期90天.1</th>\n",
       "      <th>远期120天.1</th>\n",
       "      <th>远期150天.1</th>\n",
       "      <th>远期180天.1</th>\n",
       "    </tr>\n",
       "  </thead>\n",
       "  <tbody>\n",
       "    <tr>\n",
       "      <th>20170123</th>\n",
       "      <td>JPY</td>\n",
       "      <td>本行买入</td>\n",
       "      <td>0.2687</td>\n",
       "      <td>0.2751</td>\n",
       "      <td>0.2751</td>\n",
       "      <td>0.2750</td>\n",
       "      <td>0.2750</td>\n",
       "      <td>0.2752</td>\n",
       "      <td>0.2753</td>\n",
       "      <td>0.2753</td>\n",
       "      <td>...</td>\n",
       "      <td>0.2797</td>\n",
       "      <td>0.2791</td>\n",
       "      <td>0.2792</td>\n",
       "      <td>0.2793</td>\n",
       "      <td>0.2792</td>\n",
       "      <td>0.2795</td>\n",
       "      <td>0.2797</td>\n",
       "      <td>0.2798</td>\n",
       "      <td>0.2800</td>\n",
       "      <td>NaN</td>\n",
       "    </tr>\n",
       "    <tr>\n",
       "      <th>20170120</th>\n",
       "      <td>JPY</td>\n",
       "      <td>本行买入</td>\n",
       "      <td>0.2664</td>\n",
       "      <td>0.2728</td>\n",
       "      <td>0.2727</td>\n",
       "      <td>0.2726</td>\n",
       "      <td>0.2726</td>\n",
       "      <td>0.2728</td>\n",
       "      <td>0.2729</td>\n",
       "      <td>0.2730</td>\n",
       "      <td>...</td>\n",
       "      <td>0.2774</td>\n",
       "      <td>0.2768</td>\n",
       "      <td>0.2769</td>\n",
       "      <td>0.2770</td>\n",
       "      <td>0.2770</td>\n",
       "      <td>0.2772</td>\n",
       "      <td>0.2774</td>\n",
       "      <td>0.2776</td>\n",
       "      <td>0.2778</td>\n",
       "      <td>NaN</td>\n",
       "    </tr>\n",
       "    <tr>\n",
       "      <th>20170119</th>\n",
       "      <td>JPY</td>\n",
       "      <td>本行买入</td>\n",
       "      <td>0.2668</td>\n",
       "      <td>0.2732</td>\n",
       "      <td>0.2732</td>\n",
       "      <td>0.2731</td>\n",
       "      <td>0.2731</td>\n",
       "      <td>0.2733</td>\n",
       "      <td>0.2733</td>\n",
       "      <td>0.2734</td>\n",
       "      <td>...</td>\n",
       "      <td>0.2778</td>\n",
       "      <td>0.2772</td>\n",
       "      <td>0.2772</td>\n",
       "      <td>0.2773</td>\n",
       "      <td>0.2773</td>\n",
       "      <td>0.2776</td>\n",
       "      <td>0.2777</td>\n",
       "      <td>0.2779</td>\n",
       "      <td>0.2781</td>\n",
       "      <td>NaN</td>\n",
       "    </tr>\n",
       "    <tr>\n",
       "      <th>20170118</th>\n",
       "      <td>JPY</td>\n",
       "      <td>本行买入</td>\n",
       "      <td>0.2704</td>\n",
       "      <td>0.2768</td>\n",
       "      <td>0.2768</td>\n",
       "      <td>0.2767</td>\n",
       "      <td>0.2767</td>\n",
       "      <td>0.2769</td>\n",
       "      <td>0.2769</td>\n",
       "      <td>0.2770</td>\n",
       "      <td>...</td>\n",
       "      <td>0.2814</td>\n",
       "      <td>0.2808</td>\n",
       "      <td>0.2808</td>\n",
       "      <td>0.2809</td>\n",
       "      <td>0.2809</td>\n",
       "      <td>0.2811</td>\n",
       "      <td>0.2813</td>\n",
       "      <td>0.2815</td>\n",
       "      <td>0.2817</td>\n",
       "      <td>NaN</td>\n",
       "    </tr>\n",
       "    <tr>\n",
       "      <th>20170117</th>\n",
       "      <td>JPY</td>\n",
       "      <td>本行买入</td>\n",
       "      <td>0.2705</td>\n",
       "      <td>0.2769</td>\n",
       "      <td>0.2769</td>\n",
       "      <td>0.2768</td>\n",
       "      <td>0.2768</td>\n",
       "      <td>0.2770</td>\n",
       "      <td>0.2771</td>\n",
       "      <td>0.2771</td>\n",
       "      <td>...</td>\n",
       "      <td>0.2815</td>\n",
       "      <td>0.2809</td>\n",
       "      <td>0.2810</td>\n",
       "      <td>0.2811</td>\n",
       "      <td>0.2811</td>\n",
       "      <td>0.2813</td>\n",
       "      <td>0.2815</td>\n",
       "      <td>0.2817</td>\n",
       "      <td>0.2819</td>\n",
       "      <td>NaN</td>\n",
       "    </tr>\n",
       "  </tbody>\n",
       "</table>\n",
       "<p>5 rows × 22 columns</p>\n",
       "</div>"
      ],
      "text/plain": [
       "         ﻿数据日期    币别      汇率      现金      即期   远期10天   远期30天   远期60天   远期90天  \\\n",
       "20170123   JPY  本行买入  0.2687  0.2751  0.2751  0.2750  0.2750  0.2752  0.2753   \n",
       "20170120   JPY  本行买入  0.2664  0.2728  0.2727  0.2726  0.2726  0.2728  0.2729   \n",
       "20170119   JPY  本行买入  0.2668  0.2732  0.2732  0.2731  0.2731  0.2733  0.2733   \n",
       "20170118   JPY  本行买入  0.2704  0.2768  0.2768  0.2767  0.2767  0.2769  0.2769   \n",
       "20170117   JPY  本行买入  0.2705  0.2769  0.2769  0.2768  0.2768  0.2770  0.2771   \n",
       "\n",
       "          远期120天    ...       汇率.1    现金.1    即期.1  远期10天.1  远期30天.1  远期60天.1  \\\n",
       "20170123  0.2753    ...     0.2797  0.2791  0.2792   0.2793   0.2792   0.2795   \n",
       "20170120  0.2730    ...     0.2774  0.2768  0.2769   0.2770   0.2770   0.2772   \n",
       "20170119  0.2734    ...     0.2778  0.2772  0.2772   0.2773   0.2773   0.2776   \n",
       "20170118  0.2770    ...     0.2814  0.2808  0.2808   0.2809   0.2809   0.2811   \n",
       "20170117  0.2771    ...     0.2815  0.2809  0.2810   0.2811   0.2811   0.2813   \n",
       "\n",
       "          远期90天.1  远期120天.1  远期150天.1  远期180天.1  \n",
       "20170123   0.2797    0.2798    0.2800       NaN  \n",
       "20170120   0.2774    0.2776    0.2778       NaN  \n",
       "20170119   0.2777    0.2779    0.2781       NaN  \n",
       "20170118   0.2813    0.2815    0.2817       NaN  \n",
       "20170117   0.2815    0.2817    0.2819       NaN  \n",
       "\n",
       "[5 rows x 22 columns]"
      ]
     },
     "execution_count": 5,
     "metadata": {},
     "output_type": "execute_result"
    }
   ],
   "source": [
    "df.head()"
   ]
  },
  {
   "cell_type": "code",
   "execution_count": 6,
   "metadata": {
    "collapsed": false,
    "deletable": true,
    "editable": true
   },
   "outputs": [
    {
     "name": "stdout",
     "output_type": "stream",
     "text": [
      "<class 'pandas.core.frame.DataFrame'>\n",
      "Int64Index: 127 entries, 20170123 to 20160725\n",
      "Data columns (total 22 columns):\n",
      "﻿数据日期       127 non-null object\n",
      "币别          127 non-null object\n",
      "汇率          127 non-null float64\n",
      "现金          127 non-null float64\n",
      "即期          127 non-null float64\n",
      "远期10天       127 non-null float64\n",
      "远期30天       127 non-null float64\n",
      "远期60天       127 non-null float64\n",
      "远期90天       127 non-null float64\n",
      "远期120天      127 non-null float64\n",
      "远期150天      127 non-null float64\n",
      "远期180天      127 non-null object\n",
      "汇率.1        127 non-null float64\n",
      "现金.1        127 non-null float64\n",
      "即期.1        127 non-null float64\n",
      "远期10天.1     127 non-null float64\n",
      "远期30天.1     127 non-null float64\n",
      "远期60天.1     127 non-null float64\n",
      "远期90天.1     127 non-null float64\n",
      "远期120天.1    127 non-null float64\n",
      "远期150天.1    127 non-null float64\n",
      "远期180天.1    0 non-null float64\n",
      "dtypes: float64(19), object(3)\n",
      "memory usage: 22.8+ KB\n"
     ]
    }
   ],
   "source": [
    "df.info()"
   ]
  },
  {
   "cell_type": "code",
   "execution_count": 7,
   "metadata": {
    "collapsed": true,
    "deletable": true,
    "editable": true
   },
   "outputs": [],
   "source": [
    "? pandas.to_datetime"
   ]
  },
  {
   "cell_type": "code",
   "execution_count": 8,
   "metadata": {
    "collapsed": true,
    "deletable": true,
    "editable": true
   },
   "outputs": [],
   "source": [
    "df.index = pandas.to_datetime(df.index, format='%Y%m%d')"
   ]
  },
  {
   "cell_type": "code",
   "execution_count": 9,
   "metadata": {
    "collapsed": false,
    "deletable": true,
    "editable": true
   },
   "outputs": [
    {
     "name": "stdout",
     "output_type": "stream",
     "text": [
      "Populating the interactive namespace from numpy and matplotlib\n"
     ]
    }
   ],
   "source": [
    "%pylab inline"
   ]
  },
  {
   "cell_type": "code",
   "execution_count": 12,
   "metadata": {
    "collapsed": false,
    "deletable": true,
    "editable": true
   },
   "outputs": [
    {
     "data": {
      "text/plain": [
       "<matplotlib.axes._subplots.AxesSubplot at 0x9fad438>"
      ]
     },
     "execution_count": 12,
     "metadata": {},
     "output_type": "execute_result"
    },
    {
     "data": {
      "image/png": "[encoded data removed]",
      "text/plain": [
       "<matplotlib.figure.Figure at 0x9c6c978>"
      ]
     },
     "metadata": {},
     "output_type": "display_data"
    }
   ],
   "source": [
    "df.plot(kind = 'line', y=['汇率', '现金'])"
   ]
  }
 ],
 "metadata": {
  "kernelspec": {
   "display_name": "Python 2",
   "language": "python",
   "name": "python2"
  },
  "language_info": {
   "codemirror_mode": {
    "name": "ipython",
    "version": 2
   },
   "file_extension": ".py",
   "mimetype": "text/x-python",
   "name": "python",
   "nbconvert_exporter": "python",
   "pygments_lexer": "ipython2",
   "version": "2.7.13"
  }
 },
 "nbformat": 4,
 "nbformat_minor": 0
}
