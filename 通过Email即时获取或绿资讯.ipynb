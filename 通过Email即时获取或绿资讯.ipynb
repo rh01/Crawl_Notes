{
 "cells": [
  {
   "cell_type": "code",
   "execution_count": 5,
   "metadata": {
    "collapsed": true
   },
   "outputs": [],
   "source": [
    "PASSWD = 'Heng130509'"
   ]
  },
  {
   "cell_type": "code",
   "execution_count": 8,
   "metadata": {
    "collapsed": false
   },
   "outputs": [
    {
     "data": {
      "text/plain": [
       "(221, '2.0.0 closing connection z77sm14060696pfk.47 - gsmtp')"
      ]
     },
     "execution_count": 8,
     "metadata": {},
     "output_type": "execute_result"
    }
   ],
   "source": [
    "import smtplib\n",
    "from email.MIMEMultipart import MIMEMultipart\n",
    "from email.MIMEText import MIMEText\n",
    "import ssl\n",
    "\n",
    "fromaddr  = 'heng960509@gmail.com'\n",
    "toaddr = '1048157315@qq.com'\n",
    "msg = MIMEMultipart()\n",
    "msg['From'] = fromaddr\n",
    "msg['To'] = toaddr\n",
    "msg['Subject'] = '[匯率出價通知]'\n",
    "\n",
    "import sqlite3, pandas\n",
    "with sqlite3.connect(\"C:\\\\Users\\\\Administrator\\\\cuurency.sqlite\") as db:\n",
    "    df = pandas.read_sql_query(r'select * from currency where \"幣別\" = \"JPY\" order by Date limit 1'.decode('utf-8'), con=db)\n",
    "\n",
    "\n",
    "\n",
    "body = 'hello world'\n",
    "msg.attach(MIMEText(df.to_html().encode('utf-8'), 'html'))\n",
    "\n",
    "server = smtplib.SMTP('smtp.gmail.com', 587)\n",
    "# server = smtplib.SMTP('smtp.163.com',)\n",
    "server.starttls()\n",
    "server.login(fromaddr, PASSWD)\n",
    "text = msg.as_string()\n",
    "server.sendmail(fromaddr, toaddr, text)\n",
    "server.quit()"
   ]
  },
  {
   "cell_type": "raw",
   "metadata": {},
   "source": [
    "import smtplib  \n",
    "from email.MIMEMultipart import MIMEMultipart  \n",
    "from email.MIMEText import MIMEText  \n",
    "  \n",
    "#First, we compose some of the basic message headers:  \n",
    "fromaddr = \"heng960509@163.com\"  \n",
    "toaddr = \"heng960509@gmail.com\"  \n",
    "msg = MIMEMultipart()  \n",
    "msg['From'] = fromaddr  \n",
    "msg['To'] = toaddr  \n",
    "msg['Subject'] = \"[匯率出價通知]\"  \n",
    "  \n",
    "#Next, we attach the body of the email to the MIME message:  \n",
    "body = \"Python test mail\"  \n",
    "msg.attach(MIMEText(body, 'plain'))  \n",
    "  \n",
    "'''''For sending the mail, we have to convert the object to a string, and then \n",
    "use the same prodecure as above to send using the SMTP server..'''  \n",
    "  \n",
    "server = smtplib.SMTP('smtp.163.com','994')  \n",
    "server.login(fromaddr,PASSWD)  \n",
    "text = msg.as_string()\n",
    "server.sendmail(fromaddr, toaddr, text)  "
   ]
  },
  {
   "cell_type": "raw",
   "metadata": {},
   "source": [
    "# -*- coding: UTF-8 -*-\n",
    "import sys, os, re, urllib, urlparse\n",
    "import smtplib\n",
    "import traceback\n",
    "from email.mime.text import MIMEText\n",
    "from email.mime.multipart import MIMEMultipart\n",
    "password = \"heng130509\"\n",
    "fromaddr = \"1048157315@qq.com\"\n",
    "smtpaddr = \"smtp.qq.com\"\n",
    "toaddrs = [\"heng960509@gmail.com\"]\n",
    "def sendemail(title,content):\n",
    "    mail_msg = MIMEMultipart()\n",
    "    if not isinstance(title,unicode):\n",
    "        title = unicode(title, 'utf-8')\n",
    "    mail_msg['Subject'] = title\n",
    "    mail_msg['From'] =fromaddr\n",
    "    mail_msg['To'] = ','.join(toaddrs)\n",
    "    mail_msg.attach(MIMEText(content, 'html', 'utf-8'))\n",
    "    try:\n",
    "        s = smtplib.SMTP_SSL(\"smtp.qq.com\", 465)\n",
    "        s.login(fromaddr,password)  #登录邮箱\n",
    "        s.sendmail(fromaddr, toaddrs, mail_msg.as_string()) #发送邮件\n",
    "        s.quit()\n",
    "        return True\n",
    "    except Exception,e:\n",
    "        return False\n",
    "if sendemail('hello', 'hello'):\n",
    "    print \"邮件已发送!\"\n",
    "else:\n",
    "    print \"邮件发送失败!\""
   ]
  },
  {
   "cell_type": "raw",
   "metadata": {
    "collapsed": false
   },
   "source": [
    "# -*- coding:utf-8 -*-\n",
    "\n",
    "import smtplib,sys,time\n",
    "from email.mime.text import MIMEText\n",
    "\n",
    "msg = \"\"\"\n",
    "    python发送文本邮件\n",
    "\"\"\"\n",
    "mail = MIMEText(msg)\n",
    "mail['From'] = '1066670285@qq.com'\n",
    "mail['To'] = 'heng960509@gmail.com'\n",
    "mail['Subject'] = 'python email txt test %s' % (time.strftime(\"%Y-%m-%d %H:%M:%S\",time.localtime()))\n",
    "\n",
    "user = '1066670285@qq.com'\n",
    "password = 'heng130509'\n",
    "host = 'smtp.qq.com'\n",
    "port = 465\n",
    "fromaddr = '1048157315qq.com'\n",
    "toaddr = 'heng960509@gmail.com'\n",
    "try:\n",
    "    s = smtplib.SMTP_SSL(host,port)\n",
    "except Exception,e:\n",
    "    print e\n",
    "    sys.exit(1)\n",
    "\n",
    "try: \n",
    "    s.login(user,password)\n",
    "except Exception,e:\n",
    "    print e\n",
    "    s.quit()\n",
    "    sys.exit(1)\n",
    "\n",
    "try:\n",
    "    s.sendmail(fromaddr,toaddr,mail.as_string())\n",
    "    print \"email has been sent sucessfully\"\n",
    "except Exception,e:\n",
    "    print e\n",
    "finally:\n",
    "    s.quit()"
   ]
  },
  {
   "cell_type": "code",
   "execution_count": 3,
   "metadata": {
    "collapsed": false
   },
   "outputs": [],
   "source": [
    "import sqlite3, pandas\n",
    "with sqlite3.connect(\"C:\\\\Users\\\\Administrator\\\\cuurency.sqlite\") as db:\n",
    "    df = pandas.read_sql_query(r'select * from currency where \"幣別\" = \"JPY\" order by Date limit 1'.decode('utf-8'), con=db)"
   ]
  },
  {
   "cell_type": "code",
   "execution_count": 4,
   "metadata": {
    "collapsed": false
   },
   "outputs": [
    {
     "data": {
      "text/html": [
       "<div>\n",
       "<table border=\"1\" class=\"dataframe\">\n",
       "  <thead>\n",
       "    <tr style=\"text-align: right;\">\n",
       "      <th></th>\n",
       "      <th>index</th>\n",
       "      <th>幣別</th>\n",
       "      <th>現金匯率-本行買入</th>\n",
       "      <th>現金匯率-本行賣出</th>\n",
       "      <th>即期匯率-本行買入</th>\n",
       "      <th>即期匯率-本行賣出</th>\n",
       "      <th>Date</th>\n",
       "    </tr>\n",
       "  </thead>\n",
       "  <tbody>\n",
       "    <tr>\n",
       "      <th>0</th>\n",
       "      <td>7</td>\n",
       "      <td>JPY</td>\n",
       "      <td>0.2687</td>\n",
       "      <td>0.2797</td>\n",
       "      <td>0.2751</td>\n",
       "      <td>0.2791</td>\n",
       "      <td>2017-01-23 00:00:00</td>\n",
       "    </tr>\n",
       "  </tbody>\n",
       "</table>\n",
       "</div>"
      ],
      "text/plain": [
       "   index   幣別 現金匯率-本行買入 現金匯率-本行賣出 即期匯率-本行買入 即期匯率-本行賣出                 Date\n",
       "0      7  JPY    0.2687    0.2797    0.2751    0.2791  2017-01-23 00:00:00"
      ]
     },
     "execution_count": 4,
     "metadata": {},
     "output_type": "execute_result"
    }
   ],
   "source": [
    "df"
   ]
  },
  {
   "cell_type": "code",
   "execution_count": null,
   "metadata": {
    "collapsed": true
   },
   "outputs": [],
   "source": []
  }
 ],
 "metadata": {
  "kernelspec": {
   "display_name": "Python 2",
   "language": "python",
   "name": "python2"
  },
  "language_info": {
   "codemirror_mode": {
    "name": "ipython",
    "version": 2
   },
   "file_extension": ".py",
   "mimetype": "text/x-python",
   "name": "python",
   "nbconvert_exporter": "python",
   "pygments_lexer": "ipython2",
   "version": "2.7.11"
  }
 },
 "nbformat": 4,
 "nbformat_minor": 0
}
