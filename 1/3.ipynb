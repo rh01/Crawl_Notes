{
 "cells": [
  {
   "cell_type": "markdown",
   "metadata": {},
   "source": [
    "## Css定位器\n",
    "1. 什么是CSS\n",
    "2. CSS = Cascading Style Sheets\n",
    "3. 样式定义如何显示HTML元素\n",
    "4. 想一想为什么不直接使用属性设置元素？\n",
    "5. CSS与JS"
   ]
  },
  {
   "cell_type": "markdown",
   "metadata": {},
   "source": [
    "## CSS - 基础语法\n",
    "1. CSS规则：选择器，以及一条或多条声明。\n",
    "    3. selector {declaration1; ...; desclarationN}\n",
    "1. 每条声明是由一个属性和一个值组成\n",
    "    1. property: value\n",
    "2. 例子\n",
    "    1. h1 {color: red; font-size: 14px}\n"
   ]
  },
  {
   "cell_type": "markdown",
   "metadata": {},
   "source": [
    "## CSS - 选择器\n",
    "1. 0元素选择器\n",
    "    1. 直接选择文档元素\n",
    "    1. 比如head，p\n",
    "1. 类选择器\n",
    "    1. 元素的class属性，比如\\<h1 class=\"important\"\\>\n",
    "    2. 类名就是important\n",
    "    1. important选择所有有这个类属性的元素\n",
    "    1. 可以结合元素选择器，比如p.important\n",
    "1. ID选择器\n",
    "    1. 元素的id属性，比如\\<h1 id=\"intro\"\\>\n",
    "    2. id就是important\n",
    "    3. #intro用于选择id=intro的元素\n",
    "    4. 可以结合元素选择器，比如p.important\n",
    "    5. 与类选择器的异同\n",
    "        6. ID一个文档只能出现一次\n",
    "        1. ID选择器不能使用单词列表\n",
    "        2. 与类选择器一样，都区分大小写。\n",
    "1. 属性选择器\n",
    "    1. 选择有某个属性的元素，而不论值是什么。\n",
    "    2. \\*[title] 选择所有包含title属性的元素\n",
    "    1. a[href]选择所有带有href属性的锚元素\n",
    "    1. 还可以选择多个属性，比如：a[href][title]，注意这里是要同时满足。\n",
    "    2. 限定值：a[href=\"www.so.com\"]\n",
    "1. CSS - 选择器\n",
    "    1. 后代（包含）选择器\n",
    "    1. 选择某元素后代的元素（层级不受限制）\n",
    "    1. 选择h1元素的em元素：h1 em\n",
    "1. 子元素选择器\n",
    "    1. 范围限制在子元素\n",
    "    1. 选择h1元素的子元素strong：h1 > strong\n",
    "CSS - 选择器\n",
    "后代（包含）选择器\n",
    "选择某元素后代的元素（层级不受限制）\n",
    "选择h1元素的em元素：h1 em\n",
    "子元素选择器\n",
    "范围限制在子元素\n",
    "选择h1元素的子元素strong：h1 > strong\n",
    "XPath - 简介\n",
    "什么是XPath\n",
    "使用路径表达式在XML文档中进行导航\n",
    "包含一个标准函数库\n",
    "是XSLT的主要元素\n",
    "是一个W3C标准\n",
    "XPath - 节点\n",
    "七种基本节点\n",
    "元素、属性、文本\n",
    "命名空间、处理指令、注释以及根节点\n",
    "节点之间的关系\n",
    "父、子、同胞（兄弟）、先辈、后代\n",
    "XPath - 语法\n",
    "路径表达式\n",
    "nodename 选取此节点的所有子节点\n",
    "/ 从根节点选取\n",
    "// 从匹配的当前节点选择文档中的节点，而不考虑它们的位置。\n",
    ". 选取当前节点\n",
    ".. 选取当前节点的父节点\n",
    "@ 选取属性\n",
    "XPath - 语法\n",
    "路径表达式例子（参考bookstore.xml文件）\n",
    "bookstore 选取bookstore元素的所有子节点\n",
    "/bookstore 选取根元素bookstore\n",
    "/bookstore/book 选取属于bookstore的子元素的所有book元素\n",
    "//book 选取所有book元素，而不管它们在文档中的位置。\n",
    "bookstore//book 选择属于bookstore元素的后代的所有book元素\n",
    "//@lang 选取名为lang的所有属性\n",
    "XPath - 语法\n",
    "谓语（参考bookstore.xml文件）\n",
    "嵌在[]中用来查找某个特定节点或包含某个指定值得节点。\n",
    "/bookstore/book[1] 第一个book元素\n",
    "/bookstore/book[last()] 最后一个book元素\n",
    "/bookstore/book[position()<3] 选择前2个\n",
    "//title[@lang] 选择所拥有有名为lang的属性的title元素\n",
    "/bookstore/book[price>35.00]\n",
    "XPath - 语法\n",
    "更多内容网上自学！\n",
    "与CSS选择器的比较\n",
    "CSS更加简洁\n",
    "XPath选择功能更加强大！重点在于层级切换\n",
    "Json\n",
    "Json = JavaScript Object Notation\n",
    "类似XML,但是比 XML 更小、更快，更易解析。\n",
    "参考例子sample.json\n",
    "使用json库处理json，编码与解码。\n",
    "Python处理XML方法\n",
    "DOM 把整个XML读入内存，解析为树，因此占用内存大，解析慢，优点是可以任意遍历树的节点。\n",
    "SAX 流模式，边读边解析，占用内存小，解析快，缺点是需要自己处理事件。\n",
    "xml_dom.py\n",
    "xml_sax.py\n",
    "正则表达式入门\n",
    "基本匹配规则\n",
    "[0-9] 任意一个数字，等价\\d\n",
    "[a-z] 任意一个小写字母\n",
    "[A-Z]任意一个大写字母\n",
    "[^0-9] 匹配非数字，等价\\D\n",
    "\\w 等价[a-z0-9_]，字母数字下划线\n",
    "\\W 等价对\\w取非\n",
    ". 任意字符\n",
    "[] 匹配内部任意字符或子表达式\n",
    "[^] 对字符集合取非\n",
    "正则表达式入门\n",
    "基本匹配规则\n",
    "* 匹配前面的字符或者子表达式0次或多次\n",
    "+ 匹配前一个字符至少1次\n",
    "？ 匹配前一个字符0次或多次\n",
    "^ 匹配字符串开头\n",
    "$ 匹配字符串结束\n",
    "正则表达式入门\n",
    "Python使用正则表达式\n",
    "re模块\n",
    "match 匹配结果\n",
    "pattern 编译好的正则表达式\n",
    "辅助工具\n",
    "\n",
    "Selenium简介和实战\n",
    "简单实用！\n",
    "关键命令\n",
    "find_element(s)_by_tag_name\n",
    "find_element(s)_by_css_selector\n",
    "电商网站数据爬取\n",
    "作业\n",
    "正则表达式判断是否字符串是否符合电子邮件格式\n",
    "使用selenium，上http://hz.17zwd.com/index.htm搜索女式大衣，获取前10页商品数据，包括商品名称，价格，店铺名称，商品链接和店铺链接。"
   ]
  },
  {
   "cell_type": "code",
   "execution_count": 6,
   "metadata": {
    "collapsed": false
   },
   "outputs": [
    {
     "name": "stdout",
     "output_type": "stream",
     "text": [
      "<type 'str'>\n",
      "{\"three\": [1, 2, 3], \"two\": 2, \"one\": 1}\n"
     ]
    }
   ],
   "source": [
    "import json\n",
    "obj = {'one':1, 'two':2, 'three':[1,2 ,3]}\n",
    "# 编码成json\n",
    "encoded = json.dumps(obj)\n",
    "print(type(encoded))\n",
    "print encoded"
   ]
  },
  {
   "cell_type": "code",
   "execution_count": 7,
   "metadata": {
    "collapsed": false
   },
   "outputs": [
    {
     "name": "stdout",
     "output_type": "stream",
     "text": [
      "<type 'dict'>\n",
      "{u'one': 1, u'three': [1, 2, 3], u'two': 2}\n"
     ]
    }
   ],
   "source": [
    "# 解码为dict\n",
    "decoded = json.loads(encoded)\n",
    "print(type(decoded))\n",
    "print(decoded)"
   ]
  },
  {
   "cell_type": "code",
   "execution_count": 12,
   "metadata": {
    "collapsed": false
   },
   "outputs": [
    {
     "name": "stdout",
     "output_type": "stream",
     "text": [
      "bookstore\n"
     ]
    }
   ],
   "source": [
    "# dom_xml\n",
    "from xml.dom import minidom\n",
    "doc = minidom.parse('book.xml')\n",
    "root = doc.documentElement\n",
    "print root.nodeName"
   ]
  },
  {
   "cell_type": "code",
   "execution_count": null,
   "metadata": {
    "collapsed": true
   },
   "outputs": [],
   "source": []
  }
 ],
 "metadata": {
  "kernelspec": {
   "display_name": "Python 2",
   "language": "python",
   "name": "python2"
  },
  "language_info": {
   "codemirror_mode": {
    "name": "ipython",
    "version": 2
   },
   "file_extension": ".py",
   "mimetype": "text/x-python",
   "name": "python",
   "nbconvert_exporter": "python",
   "pygments_lexer": "ipython2",
   "version": "2.7.11"
  }
 },
 "nbformat": 4,
 "nbformat_minor": 0
}
