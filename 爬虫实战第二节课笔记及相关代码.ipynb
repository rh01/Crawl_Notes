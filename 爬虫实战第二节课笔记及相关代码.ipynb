{
 "cells": [
  {
   "cell_type": "markdown",
   "metadata": {},
   "source": [
    "## 代码格式\n",
    "1. 强制缩进！Python开发者有意让违反了缩进规则的程序不能通过编译，以此来强制程序员养成良好的编程习惯。并且Python语言利用缩进表示语句块的开始和退出（Off-side规则），而非使用花括号或者某种关键字。增加缩进表示语句块的开始，而减少缩进则表示语句块的退出。缩进成为了语法的一部分。\n",
    "2. 根据PEP的规定，必须使用4个空格来表示每级缩进\n",
    "3. 我建议可以参考[Google内部的python书写规范](http://zh-google-styleguide.readthedocs.io/en/latest/google-python-styleguide/python_style_rules/)"
   ]
  },
  {
   "cell_type": "markdown",
   "metadata": {},
   "source": [
    "## 基本语法\n",
    "1. 弱类型\n",
    "2. 变量必须先赋值再使用\n",
    "3. 小心引用！\n",
    "4. 2和3的常见差异\n",
    "    1. xrange\n",
    "    2. print\n",
    "    3. 数据类型统一，取消unicode和long\n",
    "    4. utf8: 3.x代码默认utf-8"
   ]
  },
  {
   "cell_type": "markdown",
   "metadata": {},
   "source": []
  },
  {
   "cell_type": "code",
   "execution_count": 2,
   "metadata": {
    "collapsed": false
   },
   "outputs": [
    {
     "name": "stdout",
     "output_type": "stream",
     "text": [
      "1234\n",
      "abcd\n"
     ]
    }
   ],
   "source": [
    "# syntax.py\n",
    "a = 1234\n",
    "print(a)\n",
    "a = 'abcd'\n",
    "print(a)"
   ]
  },
  {
   "cell_type": "code",
   "execution_count": 5,
   "metadata": {
    "collapsed": false
   },
   "outputs": [
    {
     "name": "stdout",
     "output_type": "stream",
     "text": [
      "name 'b' is not defined\n"
     ]
    }
   ],
   "source": [
    "try:\n",
    "    print(b)\n",
    "except Exception as e:\n",
    "    print(e)"
   ]
  },
  {
   "cell_type": "code",
   "execution_count": 7,
   "metadata": {
    "collapsed": false
   },
   "outputs": [
    {
     "name": "stdout",
     "output_type": "stream",
     "text": [
      "[2, 2, 3, 4]\n"
     ]
    }
   ],
   "source": [
    "a = [1, 2, 3, 4]\n",
    "def fun(a):\n",
    "    a[0] = 2\n",
    "\n",
    "fun(a)\n",
    "print a"
   ]
  },
  {
   "cell_type": "code",
   "execution_count": 9,
   "metadata": {
    "collapsed": false
   },
   "outputs": [
    {
     "name": "stdout",
     "output_type": "stream",
     "text": [
      "0 1 2 3 4 5 6 7 8 9\n"
     ]
    }
   ],
   "source": [
    "for i in xrange(10):\n",
    "    print i,"
   ]
  },
  {
   "cell_type": "code",
   "execution_count": 12,
   "metadata": {
    "collapsed": false
   },
   "outputs": [
    {
     "name": "stdout",
     "output_type": "stream",
     "text": [
      "100 200 300 400\n"
     ]
    }
   ],
   "source": [
    "try:\n",
    "    # python 2.X支持\n",
    "    print 100, 200, 300, 400\n",
    "except Exception as e:\n",
    "    print e"
   ]
  },
  {
   "cell_type": "code",
   "execution_count": 24,
   "metadata": {
    "collapsed": false
   },
   "outputs": [
    {
     "name": "stdout",
     "output_type": "stream",
     "text": [
      "<type 'list'>\n",
      "[1, 2, 3, 4]\n",
      "[1, 2, 3, 4]\n"
     ]
    }
   ],
   "source": [
    "import copy\n",
    "a = [1, 2, 3, 4]\n",
    "\n",
    "def func(a):\n",
    "    a[0] = 2\n",
    "\n",
    "\n",
    "fun(copy.deepcopy(a))\n",
    "print type(copy.deepcopy(a))\n",
    "print copy.copy(a)\n",
    "print a"
   ]
  },
  {
   "cell_type": "markdown",
   "metadata": {},
   "source": [
    "## 关键字\n",
    "1. 常量\n",
    "    2. True False None\n",
    "3. 对象与容器\n",
    "    4. class import from del\n",
    "5. 逻辑操作\n",
    "    6. and or not\n",
    "4. 函数\n",
    "    1. def return\n",
    "5. 判断与循环控制\n",
    "    1. if elif else\n",
    "    2. is\n",
    "    3. in\n",
    "    4. assert\n",
    "    5. for while continue break\n",
    "6. 异常\n",
    "    1. raise try except finally\n",
    "    2. with as\n",
    "7. 作用域\n",
    "    1. global nonlocal\n",
    "    2. 匿名函数与协程\n",
    "    3. yield lambda"
   ]
  },
  {
   "cell_type": "code",
   "execution_count": 31,
   "metadata": {
    "collapsed": false
   },
   "outputs": [
    {
     "name": "stdout",
     "output_type": "stream",
     "text": [
      "\n"
     ]
    }
   ],
   "source": [
    "# keyword\n",
    "assert(1 == 1)\n",
    "\n",
    "try:\n",
    "    assert( 1 != 1)\n",
    "except Exception as e:\n",
    "    print(e)"
   ]
  },
  {
   "cell_type": "markdown",
   "metadata": {},
   "source": [
    "## 循环判断\n",
    "1. 注意加“:”！！！\n",
    "2. 没有do-while循环\n",
    "3. 没有switch\n",
    "4. break是中断整个循环\n",
    "5. continue是结束本次迭代进入下一个"
   ]
  },
  {
   "cell_type": "code",
   "execution_count": 32,
   "metadata": {
    "collapsed": false
   },
   "outputs": [
    {
     "name": "stdout",
     "output_type": "stream",
     "text": [
      "C\n"
     ]
    }
   ],
   "source": [
    "# loop\n",
    "score = 80\n",
    "\n",
    "if score > 90:\n",
    "    print(\"A\")\n",
    "elif score > 80:\n",
    "    print('B')\n",
    "elif score > 70:\n",
    "    print('C')\n",
    "else:\n",
    "    print('不及格')"
   ]
  },
  {
   "cell_type": "code",
   "execution_count": 39,
   "metadata": {
    "collapsed": false
   },
   "outputs": [
    {
     "name": "stdout",
     "output_type": "stream",
     "text": [
      "1 4 7\n"
     ]
    }
   ],
   "source": [
    "total = 1\n",
    "while total != 10:\n",
    "    print total,\n",
    "    total += 3 # 没有++/--\n",
    "   "
   ]
  },
  {
   "cell_type": "code",
   "execution_count": 7,
   "metadata": {
    "collapsed": false
   },
   "outputs": [
    {
     "name": "stdout",
     "output_type": "stream",
     "text": [
      "(0, 0) (0, 1) (0, 3) (1, 0) (1, 1) (1, 3) (2, 0) (2, 1) (2, 3)\n"
     ]
    }
   ],
   "source": [
    "# for 循环之作用于容器\n",
    "# 没有这种写法：\n",
    "# for(i = 0; i< 100; i++)\n",
    "#     #TODO\n",
    "# 上面这种循环只能用于while实现\n",
    "\n",
    "i = 0\n",
    "j = 0\n",
    "while i < 3:\n",
    "    j = 0\n",
    "    while j < 3:\n",
    "        if j == 2:\n",
    "            j += 1\n",
    "            print(i, j),\n",
    "            continue\n",
    "        print(i, j),\n",
    "        j += 1\n",
    "    i += 1"
   ]
  },
  {
   "cell_type": "markdown",
   "metadata": {},
   "source": [
    "## 函数\n",
    "1. def定义函数\n",
    "3. 默认参数\n",
    "3. 名字参数\n",
    "4. 函数也是对象！！！\n",
    "4. 函数式编程简介：map/reduce/lambda"
   ]
  },
  {
   "cell_type": "code",
   "execution_count": 13,
   "metadata": {
    "collapsed": false
   },
   "outputs": [
    {
     "name": "stdout",
     "output_type": "stream",
     "text": [
      "hello xiaoming\n",
      "hello sea\n",
      "hello shenheng\n"
     ]
    }
   ],
   "source": [
    "# fun.py\n",
    "def hello(who='shenheng'):\n",
    "    # print('hello ' + who )\n",
    "    print('hello %s'% who)\n",
    "\n",
    "hello('xiaoming')\n",
    "hello('sea')\n",
    "hello()\n",
    "    "
   ]
  },
  {
   "cell_type": "code",
   "execution_count": 17,
   "metadata": {
    "collapsed": false
   },
   "outputs": [
    {
     "name": "stdout",
     "output_type": "stream",
     "text": [
      "600\n",
      "600\n"
     ]
    }
   ],
   "source": [
    "# f(x) = x * 5 + 100\n",
    "# g(x) = x * 5; f(x) = g(x) + 100\n",
    "# =>f(g(x)) = x * 5\n",
    "\n",
    "def g(x):\n",
    "    return x*5\n",
    "def f(g, x):\n",
    "    return g(x) + 100\n",
    "\n",
    "print(f(g, 100))\n",
    "print(f(lambda x: x * 5, 100))"
   ]
  },
  {
   "cell_type": "code",
   "execution_count": 19,
   "metadata": {
    "collapsed": false
   },
   "outputs": [
    {
     "name": "stdout",
     "output_type": "stream",
     "text": [
      "125\n"
     ]
    }
   ],
   "source": [
    "def g(x, y):\n",
    "    return(x + y)\n",
    "\n",
    "def f(g, x, y):\n",
    "    return g(x, y) + 100\n",
    "\n",
    "print(f(lambda x, y: x * y, 5, 5))\n",
    "    "
   ]
  },
  {
   "cell_type": "markdown",
   "metadata": {},
   "source": [
    "## 容器\n",
    "1. list：数组\n",
    "1. tuple：只读数组\n",
    "1. set：没有重复元素的数组\n",
    "1. dict：字典（哈希表）\n",
    "1. 数组切片\n",
    "1. 字符串与数组的关系!!!"
   ]
  },
  {
   "cell_type": "code",
   "execution_count": 35,
   "metadata": {
    "collapsed": false
   },
   "outputs": [
    {
     "name": "stdout",
     "output_type": "stream",
     "text": [
      "1\n",
      "2\n",
      "3\n",
      "4\n",
      "============*******=================\n",
      "1\n",
      "3\n",
      "5\n",
      "7\n",
      "9\n",
      "============*******=================\n",
      "1\n",
      "============*******=================\n",
      "[1, 2, 3, 4, 1, 2, 3, ['abc', 'abcd'], [4, 5, 6]]\n",
      "============*******=================\n",
      "[1, 2, 3, 4, 5]\n",
      "============*******=================\n",
      "[1, 2, 3, 4]\n",
      "[1, 2, 4]\n",
      "============*******=================\n",
      "[4, 5, 6, 7, 8]\n",
      "============*******=================\n",
      "[[2, 11], [3, 8], [5, 2], [7, 6]]\n",
      "============*******=================\n",
      "[[2, 11], [3, 8], [5, 2], [7, 6]]\n",
      "==============End===================\n"
     ]
    }
   ],
   "source": [
    "## list\n",
    "# 遍历数组list\n",
    "list_ = [1, 2, 3, 4]\n",
    "for i in list_:\n",
    "    print(i)\n",
    "\n",
    "print '============*******================='\n",
    "    \n",
    "for i in range(1, 10, 2):\n",
    "    print(i)\n",
    "\n",
    "print '============*******================='\n",
    "\n",
    "\n",
    "    \n",
    "# 按照下标索引访问数组\n",
    "print(list_[0])\n",
    "\n",
    "print '============*******================='\n",
    "\n",
    "\n",
    "# 向数组添加元素\n",
    "# append方法\n",
    "list_.append(1)\n",
    "list_.append(2)\n",
    "list_.append(3)\n",
    "\n",
    "list_.append(['abc','abcd'])\n",
    "list_.append([4, 5, 6])\n",
    "print list_\n",
    "\n",
    "print '============*******================='\n",
    "\n",
    "\n",
    "# 向数组添加元素（按照元素添加）\n",
    "li = [1, 2]\n",
    "li_a = [3, 4, 5]\n",
    "li.extend(li_a)\n",
    "print(li)\n",
    "\n",
    "print '============*******================='\n",
    "\n",
    "\n",
    "# 删除数组的元素\n",
    "li.pop() # 默认删除最后一个元素\n",
    "print(li)\n",
    "li.pop(2) #索引\n",
    "print(li)\n",
    "\n",
    "print '============*******================='\n",
    "\n",
    "\n",
    "# 排序\n",
    "li_b = [5, 8, 7, 6, 4]\n",
    "li_b.sort()\n",
    "print(li_b)\n",
    "\n",
    "print '============*******================='\n",
    "\n",
    "\n",
    "# lambda帮助排序\n",
    "# http://stackoverflow.com/questions/3766633/how-to-sort-with-lambda-in-python\n",
    "li = [[5, 2], [3, 8], [2, 11], [7, 6]]\n",
    "li.sort(key = lambda x:x[0]) # 一定要加上key =, sorted也可以的\n",
    "print(li)\n",
    "\n",
    "print '============*******================='\n",
    "\n",
    "li = [[5, 2], [3, 8], [2, 11], [7, 6]]\n",
    "\n",
    "def item_key(x):\n",
    "    return x[0]\n",
    "li = sorted(li, key = item_key)\n",
    "print(li)\n",
    "print '==============End==================='\n",
    "\n"
   ]
  },
  {
   "cell_type": "code",
   "execution_count": 36,
   "metadata": {
    "collapsed": false
   },
   "outputs": [
    {
     "name": "stdout",
     "output_type": "stream",
     "text": [
      "'tuple' object does not support item assignment\n"
     ]
    }
   ],
   "source": [
    "# tuple\n",
    "# 可以理解为只读的数组,不可修改\n",
    "tp = (1, 2, 3)\n",
    "\n",
    "try:\n",
    "    tp[0] = 100\n",
    "except Exception as e:\n",
    "    print(e)\n"
   ]
  },
  {
   "cell_type": "code",
   "execution_count": 39,
   "metadata": {
    "collapsed": false
   },
   "outputs": [
    {
     "name": "stdout",
     "output_type": "stream",
     "text": [
      "set([1, 2, 3, 4, 5, 6, 7])\n",
      "set([1, 2, 3, 4, 5, 6, 7])\n"
     ]
    }
   ],
   "source": [
    "# set\n",
    "s = set([1, 2, 3, 4, 5, 6, 7])\n",
    "print(s)\n",
    "\n",
    "s = set((1, 2, 3, 4, 5, 6, 7))\n",
    "print(s)"
   ]
  },
  {
   "cell_type": "code",
   "execution_count": 45,
   "metadata": {
    "collapsed": false
   },
   "outputs": [
    {
     "name": "stdout",
     "output_type": "stream",
     "text": [
      "============Method1=================\n",
      "v3\n",
      "v2\n",
      "v1\n",
      "v4\n",
      "============Method2=================\n",
      "('k3', 'v3')\n",
      "('k2', 'v2')\n",
      "('k1', 'v1')\n",
      "('k4', 'v4')\n"
     ]
    }
   ],
   "source": [
    "# dict字典\n",
    "# 哈希表\n",
    "# key<->value对应的哈希表\n",
    "di = {'k1':'v1', 'k2':'v2'}\n",
    "di['k3'] = 'v3'\n",
    "di['k4'] = 'v4'\n",
    "print '============Method1================='\n",
    "\n",
    "for k in di:\n",
    "    print(di[k])\n",
    "print '============Method2================='\n",
    "    \n",
    "for i,j in di.items():\n",
    "    print(i, j)\n"
   ]
  },
  {
   "cell_type": "code",
   "execution_count": 53,
   "metadata": {
    "collapsed": false
   },
   "outputs": [
    {
     "name": "stdout",
     "output_type": "stream",
     "text": [
      "[1, 2, 3]\n",
      "[5, 4, 3, 2, 1]\n",
      "[4, 3, 2, 1]\n",
      "[1, 2, 100]\n"
     ]
    }
   ],
   "source": [
    "# 数组切片\n",
    "# ex:[1 , 2, 3, 4, 5, 6] -> [3, 4, 5]\n",
    "li = [1 , 2, 3, 4, 5]\n",
    "li_0_2 = li[0:3] # 0<= ? <3\n",
    "# 等价于li[:3]\n",
    "print li_0_2\n",
    "\n",
    "# [start, end, step] => [start, start + stgep, ...,< end]\n",
    "# 默认是0， end默认是-1，step默认1\n",
    "li_0_3 = li[-1: -4: -1] # \n",
    "# print li_0_3\n",
    "\n",
    "# 直接利用切片反转数组\n",
    "print(li[::-1])\n",
    "print(li[-2::-1])\n",
    "\n",
    "# 切片是复制\n",
    "li_0_2[-1] = 100\n",
    "print li_0_2"
   ]
  },
  {
   "cell_type": "code",
   "execution_count": 63,
   "metadata": {
    "collapsed": false
   },
   "outputs": [
    {
     "name": "stdout",
     "output_type": "stream",
     "text": [
      "'str' object does not support item assignment\n",
      "abcdefg\n",
      "<type 'str'>\n",
      "a-b-c-d-e-f-g\n",
      "('abc', 'def', 'ghi')\n",
      "b\n",
      "bc,\n"
     ]
    }
   ],
   "source": [
    "# 字符串\n",
    "\n",
    "str = 'abcdefg'\n",
    "\n",
    "try:\n",
    "    str[0] = 'x'\n",
    "except Exception as e:\n",
    "    print(e)\n",
    "    \n",
    "# 修改字符串\n",
    "li = list(str)\n",
    "# print(li)\n",
    "s = ''.join(li)\n",
    "print s\n",
    "print(type(s))\n",
    "s = '-'.join(li)\n",
    "print(s)\n",
    "\n",
    "# 切割\n",
    "s = 'abc,def,ghi'\n",
    "p1, p2, p3 = s.split(',')\n",
    "print( p1, p2, p3)\n",
    "\n",
    "# 下标访问和切割\n",
    "print(s[1])\n",
    "print(s[1:4])"
   ]
  },
  {
   "cell_type": "markdown",
   "metadata": {},
   "source": [
    "## 面向对象\n",
    "1. 一切皆对象\n",
    "1. 获取对象信息：type和dir\n",
    "1. class声明对象\n",
    "1. 重要的self！！！\n",
    "1. 继承与多态（什么是鸭子类型？）"
   ]
  },
  {
   "cell_type": "code",
   "execution_count": 70,
   "metadata": {
    "collapsed": false
   },
   "outputs": [
    {
     "name": "stdout",
     "output_type": "stream",
     "text": [
      "<type 'list'>\n",
      "<type 'tuple'>\n",
      "<type 'str'>\n",
      "<type 'dict'>\n"
     ]
    }
   ],
   "source": [
    "# 用type查看对象类型\n",
    "print(type([1, 2, 4, 6]))\n",
    "print(type((1, 2, 4, 6)))\n",
    "print(type('strrr'))\n",
    "print(type({'1':'2'}))"
   ]
  },
  {
   "cell_type": "code",
   "execution_count": 71,
   "metadata": {
    "collapsed": false
   },
   "outputs": [
    {
     "name": "stdout",
     "output_type": "stream",
     "text": [
      "['__add__', '__class__', '__contains__', '__delattr__', '__delitem__', '__delslice__', '__doc__', '__eq__', '__format__', '__ge__', '__getattribute__', '__getitem__', '__getslice__', '__gt__', '__hash__', '__iadd__', '__imul__', '__init__', '__iter__', '__le__', '__len__', '__lt__', '__mul__', '__ne__', '__new__', '__reduce__', '__reduce_ex__', '__repr__', '__reversed__', '__rmul__', '__setattr__', '__setitem__', '__setslice__', '__sizeof__', '__str__', '__subclasshook__', 'append', 'count', 'extend', 'index', 'insert', 'pop', 'remove', 'reverse', 'sort']\n"
     ]
    }
   ],
   "source": [
    "# 用dir查看属性和方法\n",
    "print(dir(list))"
   ]
  },
  {
   "cell_type": "code",
   "execution_count": 79,
   "metadata": {
    "collapsed": false
   },
   "outputs": [
    {
     "name": "stdout",
     "output_type": "stream",
     "text": [
      "<type 'type'>\n",
      "(100, 200)\n"
     ]
    }
   ],
   "source": [
    "class Clazz(object):\n",
    "    # self参考C++中的this指针\n",
    "    def __init__(self, x, y):\n",
    "        self.x = x\n",
    "        self.y = y\n",
    "    # 声明成员函数的时候，第一个参数一定时self\n",
    "    def display(self):\n",
    "        print(self.x, self.y)\n",
    "\n",
    "print(type(Clazz))\n",
    "clz = Clazz(100, 200)\n",
    "clz.display() # 等价于display(clzz)"
   ]
  },
  {
   "cell_type": "code",
   "execution_count": 82,
   "metadata": {
    "collapsed": false
   },
   "outputs": [
    {
     "name": "stdout",
     "output_type": "stream",
     "text": [
      "tom::run\n"
     ]
    }
   ],
   "source": [
    "# 继承\n",
    "class Base:\n",
    "    def run(self):\n",
    "        print('Base::run')\n",
    "\n",
    "class Tom:\n",
    "    def run(self):\n",
    "        print('tom::run')\n",
    "\n",
    "t = Tom()\n",
    "# 判断是否是基类型\n",
    "t.run()\n"
   ]
  },
  {
   "cell_type": "code",
   "execution_count": 86,
   "metadata": {
    "collapsed": false
   },
   "outputs": [
    {
     "name": "stdout",
     "output_type": "stream",
     "text": [
      "R1::run\n",
      "R2::run\n"
     ]
    }
   ],
   "source": [
    "def run(runner):\n",
    "    runner.run()\n",
    "    \n",
    "\n",
    "class R1:\n",
    "    def run(self):\n",
    "        print('R1::run')\n",
    "        \n",
    "class R2:\n",
    "    def run(self):\n",
    "        print('R2::run')\n",
    "\n",
    "run(R1())\n",
    "run(R2())"
   ]
  },
  {
   "cell_type": "markdown",
   "metadata": {},
   "source": [
    "## 文件读写\n",
    "1. 文本文件读写\n",
    "1. 二进制文件读写\n",
    "1. string与bytes\n",
    "1. 文件和目录操作"
   ]
  },
  {
   "cell_type": "code",
   "execution_count": 101,
   "metadata": {
    "collapsed": false
   },
   "outputs": [
    {
     "name": "stdout",
     "output_type": "stream",
     "text": [
      "1234\n",
      "abcd\n",
      "edfg\n"
     ]
    }
   ],
   "source": [
    "# 文本文件的读写\n",
    "f = open('text.txt','r')\n",
    "# print(f.read())\n",
    "# while f.readline()!=\n",
    "for i in f.readlines():\n",
    "    # print i,\n",
    "    print(i.strip())"
   ]
  },
  {
   "cell_type": "code",
   "execution_count": 104,
   "metadata": {
    "collapsed": false
   },
   "outputs": [
    {
     "name": "stdout",
     "output_type": "stream",
     "text": [
      "['__class__', '__delattr__', '__doc__', '__enter__', '__exit__', '__format__', '__getattribute__', '__hash__', '__init__', '__iter__', '__new__', '__reduce__', '__reduce_ex__', '__repr__', '__setattr__', '__sizeof__', '__str__', '__subclasshook__', 'close', 'closed', 'encoding', 'errors', 'fileno', 'flush', 'isatty', 'mode', 'name', 'newlines', 'next', 'read', 'readinto', 'readline', 'readlines', 'seek', 'softspace', 'tell', 'truncate', 'write', 'writelines', 'xreadlines']\n",
      "1234\n",
      "abcd\n",
      "edfg\n"
     ]
    }
   ],
   "source": [
    "# 另一种常用方法\n",
    "with open('text.txt') as f:\n",
    "    print(dir(f))\n",
    "    for line in f.readlines():\n",
    "        print line,\n",
    "    "
   ]
  },
  {
   "cell_type": "markdown",
   "metadata": {},
   "source": [
    "|模式|描述|\n",
    "| :------| :------: |\n",
    "|r\t|以只读方式打开文件。文件的指针将会放在文件的开头。这是默认模式。|\n",
    "|rb\t|以二进制格式打开一个文件用于只读。文件指针将会放在文件的开头。这是默认模式。|\n",
    "|r+\t|打开一个文件用于读写。文件指针将会放在文件的开头|\n",
    "|rb+|\t以二进制格式打开一个文件用于读写。文件指针将会放在文件的开头。|\n",
    "|w\t|打开一个文件只用于写入。如果该文件已存在则将其覆盖。如果该文件不存在，创建新文件。|\n",
    "|wb\t|以二进制格式打开一个文件只用于写入。如果该文件已存在则将其覆盖。如果该文件不存在，创建新文件。|\n",
    "|w+|\t打开一个文件用于读写。如果该文件已存在则将其覆盖。如果该文件不存在，创建新文件。|\n",
    "|wb+|\t以二进制格式打开一个文件用于读写。如果该文件已存在则将其覆盖。如果该文件不存在，创建新文件。|\n",
    "|a\t|打开一个文件用于追加。如果该文件已存在，文件指针将会放在文件的结尾。也就是说，新的内容将会被写入到已有内容之后。如果该文件不存在，创建新文件进行写入。|\n",
    "|ab|\t以二进制格式打开一个文件用于追加。如果该文件已存在，文件指针将会放在文件的结尾。也就是说，新的内容将会被写入到已有内容之后。如果该文件不存在，创建新文件进行写入。|\n",
    "|a+|打开一个文件用于读写。如果该文件已存在，文件指针将会放在文件的结尾。文件打开时会是追加模式。如果该文件不存在，创建新文件用于读写。|\n",
    "|ab+|以二进制格式打开一个文件用于追加。如果该文件已存在，文件指针将会放在文件的结尾。如果该文件不存在，创建新文件用于读写|"
   ]
  },
  {
   "cell_type": "code",
   "execution_count": 129,
   "metadata": {
    "collapsed": false
   },
   "outputs": [
    {
     "name": "stdout",
     "output_type": "stream",
     "text": [
      "abcdef\n"
     ]
    }
   ],
   "source": [
    "# with open('text.txt','rb') as f:\n",
    "#     print(f.read())\n",
    "# mode \n",
    "s = 'abcdef'\n",
    "b = bytes(s)\n",
    "print(b)\n",
    "with open('text.txt','a') as f:\n",
    "    f.write('\\n'+s)"
   ]
  },
  {
   "cell_type": "code",
   "execution_count": 130,
   "metadata": {
    "collapsed": false
   },
   "outputs": [
    {
     "name": "stdout",
     "output_type": "stream",
     "text": [
      "1234\n",
      "abcd\n",
      "edfg\n",
      "abcdef\n",
      "abcdef\n"
     ]
    }
   ],
   "source": [
    "with open('text.txt','r') as f:\n",
    "    for i in f.readlines():\n",
    "        print i,"
   ]
  },
  {
   "cell_type": "markdown",
   "metadata": {},
   "source": [
    "## 多线程\n",
    "1. 多线程\n",
    "1. 多进程\n",
    "1. 线程同步\n",
    "1. 多线程编程经验"
   ]
  },
  {
   "cell_type": "code",
   "execution_count": 143,
   "metadata": {
    "collapsed": false
   },
   "outputs": [
    {
     "name": "stdout",
     "output_type": "stream",
     "text": [
      "10000\n",
      "10000\n",
      "10000\n",
      "10000\n",
      "10000\n"
     ]
    }
   ],
   "source": [
    "#多线程\n",
    "import threading\n",
    "\n",
    "def thread_func(x):\n",
    "    print('%d'% (x * 100))\n",
    "\n",
    "threads = []\n",
    "for i in range(5):\n",
    "    threads.append(threading.Thread(target= thread_func,args=(100,)))# 一定加逗号100，\n",
    "\n",
    "for thread in threads:\n",
    "    thread.start()\n",
    "    \n",
    "for thread in threads:\n",
    "    thread.join()"
   ]
  },
  {
   "cell_type": "markdown",
   "metadata": {},
   "source": [
    "## 错误和异常处理\n",
    "1. 为什么要使用异常？\n",
    "1. 如何自定义异常\n",
    "1. logging库使用\n"
   ]
  },
  {
   "cell_type": "code",
   "execution_count": 144,
   "metadata": {
    "collapsed": false
   },
   "outputs": [
    {
     "name": "stdout",
     "output_type": "stream",
     "text": [
      "<type 'exceptions.ZeroDivisionError'>\n",
      "integer division or modulo by zero\n",
      "Always come here.\n"
     ]
    }
   ],
   "source": [
    "# 错误处理\n",
    "\n",
    "import logging\n",
    "\n",
    "'''\n",
    "作业：自己实现将不同的等级的信息写到不同的日志文件\n",
    "logging.info(...)\n",
    "logging.debug(...)\n",
    "'''\n",
    "\n",
    "try:\n",
    "    r = 10 / 0\n",
    "except ZeroDivisionError as e:\n",
    "    print(type(e))\n",
    "    print(e)\n",
    "finally:\n",
    "    # 主要防止资源泄露！\n",
    "    print('Always come here.')"
   ]
  }
 ],
 "metadata": {
  "kernelspec": {
   "display_name": "Python 2",
   "language": "python",
   "name": "python2"
  },
  "language_info": {
   "codemirror_mode": {
    "name": "ipython",
    "version": 2
   },
   "file_extension": ".py",
   "mimetype": "text/x-python",
   "name": "python",
   "nbconvert_exporter": "python",
   "pygments_lexer": "ipython2",
   "version": "2.7.11"
  }
 },
 "nbformat": 4,
 "nbformat_minor": 0
}
