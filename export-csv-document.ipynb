{
 "cells": [
  {
   "cell_type": "code",
   "execution_count": 14,
   "metadata": {
    "collapsed": false,
    "deletable": true,
    "editable": true
   },
   "outputs": [],
   "source": [
    "import requests\n",
    "from bs4 import BeautifulSoup\n",
    "import base64\n",
    "payload = {}\n",
    "res = requests.get('http://www.twse.com.tw/ch/trading/exchange/BWIBBU/BWIBBU_d.php')\n",
    "# print res.text\n",
    "res.encoding = 'big5'\n",
    "soup = BeautifulSoup(res.text)\n",
    "for inp in soup.select('input'):\n",
    "    if 'hidden' in inp.get('type'):\n",
    "        payload[inp.get('name')] = base64.b64encode(inp.get('value').encode('utf-8'))\n",
    "\n",
    "res2 = requests.post('http://www.twse.com.tw/ch/trading/exchange/BWIBBU/BWIBBU_print.php?language=ch&save=csv', data=payload, stream=True)\n",
    "\n",
    "from shutil import copyfileobj\n",
    "f = open('export.csv', 'wb')\n",
    "copyfileobj(res2.raw, f)\n",
    "f.close()\n",
    "\n",
    "# print payload\n",
    "\n",
    "    "
   ]
  },
  {
   "cell_type": "code",
   "execution_count": null,
   "metadata": {
    "collapsed": true,
    "deletable": true,
    "editable": true
   },
   "outputs": [],
   "source": []
  }
 ],
 "metadata": {
  "kernelspec": {
   "display_name": "Python 2",
   "language": "python",
   "name": "python2"
  },
  "language_info": {
   "codemirror_mode": {
    "name": "ipython",
    "version": 2
   },
   "file_extension": ".py",
   "mimetype": "text/x-python",
   "name": "python",
   "nbconvert_exporter": "python",
   "pygments_lexer": "ipython2",
   "version": "2.7.13"
  }
 },
 "nbformat": 4,
 "nbformat_minor": 0
}
